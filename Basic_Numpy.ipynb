{
 "cells": [
  {
   "cell_type": "markdown",
   "id": "64c94e3e",
   "metadata": {},
   "source": [
    "## Install Numpy"
   ]
  },
  {
   "cell_type": "code",
   "execution_count": 1,
   "id": "599f2d38",
   "metadata": {},
   "outputs": [],
   "source": [
    "#pip install numpy"
   ]
  },
  {
   "cell_type": "markdown",
   "id": "8e5a0245",
   "metadata": {},
   "source": [
    "### Once you've installed NumPy you can import it"
   ]
  },
  {
   "cell_type": "code",
   "execution_count": 2,
   "id": "0dd8f2a4",
   "metadata": {},
   "outputs": [],
   "source": [
    "import numpy as np"
   ]
  },
  {
   "cell_type": "markdown",
   "id": "9d3379c1",
   "metadata": {},
   "source": [
    "## Creating numpy array"
   ]
  },
  {
   "cell_type": "code",
   "execution_count": 3,
   "id": "bb6e23f2",
   "metadata": {},
   "outputs": [
    {
     "data": {
      "text/plain": [
       "[1, 3, 2]"
      ]
     },
     "execution_count": 3,
     "metadata": {},
     "output_type": "execute_result"
    }
   ],
   "source": [
    "my_list = [1, 3, 2]\n",
    "my_list"
   ]
  },
  {
   "cell_type": "code",
   "execution_count": 4,
   "id": "b9f52c0b",
   "metadata": {},
   "outputs": [
    {
     "data": {
      "text/plain": [
       "array([1, 3, 2])"
      ]
     },
     "execution_count": 4,
     "metadata": {},
     "output_type": "execute_result"
    }
   ],
   "source": [
    "arr = np.array(my_list)     # list convert in array\n",
    "arr"
   ]
  },
  {
   "cell_type": "code",
   "execution_count": 5,
   "id": "ca0307c9",
   "metadata": {},
   "outputs": [
    {
     "data": {
      "text/plain": [
       "array([[ 1,  3,  4],\n",
       "       [ 2,  4,  5],\n",
       "       [34,  4,  6]])"
      ]
     },
     "execution_count": 5,
     "metadata": {},
     "output_type": "execute_result"
    }
   ],
   "source": [
    "my_matrix = [[1, 3, 4], [2, 4, 5], [34, 4, 6]]\n",
    "np.array(my_matrix)"
   ]
  },
  {
   "cell_type": "markdown",
   "id": "bad75b1e",
   "metadata": {},
   "source": [
    "## Built-in Methods"
   ]
  },
  {
   "cell_type": "markdown",
   "id": "faf9c583",
   "metadata": {},
   "source": [
    "### 1. arange\n",
    "Return evenly spaced values within a given interval."
   ]
  },
  {
   "cell_type": "code",
   "execution_count": 6,
   "id": "a13c515e",
   "metadata": {},
   "outputs": [
    {
     "data": {
      "text/plain": [
       "array([0, 1, 2, 3, 4, 5, 6, 7, 8, 9])"
      ]
     },
     "execution_count": 6,
     "metadata": {},
     "output_type": "execute_result"
    }
   ],
   "source": [
    "np.arange(10)  \n",
    "#OR\n",
    "np.arange(0, 10)     #np.arange(start = 0, stop = 10)"
   ]
  },
  {
   "cell_type": "code",
   "execution_count": 7,
   "id": "e1df2d47",
   "metadata": {},
   "outputs": [
    {
     "data": {
      "text/plain": [
       "array([0, 2, 4, 6, 8])"
      ]
     },
     "execution_count": 7,
     "metadata": {},
     "output_type": "execute_result"
    }
   ],
   "source": [
    "np.arange(0, 10, 2)      #np.arange(start = 0, stop = 10, step = 2)"
   ]
  },
  {
   "cell_type": "markdown",
   "id": "99e01ff2",
   "metadata": {},
   "source": [
    "### 2. zeros and ones\n",
    "Generate arrays of zeros or ones."
   ]
  },
  {
   "cell_type": "code",
   "execution_count": 8,
   "id": "787ea909",
   "metadata": {},
   "outputs": [
    {
     "data": {
      "text/plain": [
       "array([0., 0., 0.])"
      ]
     },
     "execution_count": 8,
     "metadata": {},
     "output_type": "execute_result"
    }
   ],
   "source": [
    "np.zeros((3))"
   ]
  },
  {
   "cell_type": "code",
   "execution_count": 9,
   "id": "96cf31ed",
   "metadata": {},
   "outputs": [
    {
     "data": {
      "text/plain": [
       "array([[0., 0.],\n",
       "       [0., 0.]])"
      ]
     },
     "execution_count": 9,
     "metadata": {},
     "output_type": "execute_result"
    }
   ],
   "source": [
    "np.zeros((2, 2))    #np.zeros((rows, columns))"
   ]
  },
  {
   "cell_type": "code",
   "execution_count": 10,
   "id": "0f0f9c59",
   "metadata": {},
   "outputs": [
    {
     "data": {
      "text/plain": [
       "array([[0., 0., 0.],\n",
       "       [0., 0., 0.],\n",
       "       [0., 0., 0.]])"
      ]
     },
     "execution_count": 10,
     "metadata": {},
     "output_type": "execute_result"
    }
   ],
   "source": [
    "np.zeros((3, 3)) "
   ]
  },
  {
   "cell_type": "code",
   "execution_count": 11,
   "id": "1d9e09ea",
   "metadata": {},
   "outputs": [
    {
     "data": {
      "text/plain": [
       "array([1., 1., 1.])"
      ]
     },
     "execution_count": 11,
     "metadata": {},
     "output_type": "execute_result"
    }
   ],
   "source": [
    "np.ones(3)"
   ]
  },
  {
   "cell_type": "code",
   "execution_count": 12,
   "id": "cd0c7757",
   "metadata": {},
   "outputs": [
    {
     "data": {
      "text/plain": [
       "array([[1., 1.],\n",
       "       [1., 1.]])"
      ]
     },
     "execution_count": 12,
     "metadata": {},
     "output_type": "execute_result"
    }
   ],
   "source": [
    "np.ones((2, 2))       #np.ones((rows, columns))"
   ]
  },
  {
   "cell_type": "code",
   "execution_count": 13,
   "id": "1c30caeb",
   "metadata": {},
   "outputs": [
    {
     "data": {
      "text/plain": [
       "array([[1., 1., 1.],\n",
       "       [1., 1., 1.],\n",
       "       [1., 1., 1.]])"
      ]
     },
     "execution_count": 13,
     "metadata": {},
     "output_type": "execute_result"
    }
   ],
   "source": [
    "np.ones((3, 3))"
   ]
  },
  {
   "cell_type": "markdown",
   "id": "75eea548",
   "metadata": {},
   "source": [
    "### 3. empty"
   ]
  },
  {
   "cell_type": "code",
   "execution_count": 14,
   "id": "94d0ffd6",
   "metadata": {},
   "outputs": [
    {
     "data": {
      "text/plain": [
       "array([2.55982669e-288, 8.22088488e-109])"
      ]
     },
     "execution_count": 14,
     "metadata": {},
     "output_type": "execute_result"
    }
   ],
   "source": [
    "np.empty((2))"
   ]
  },
  {
   "cell_type": "markdown",
   "id": "e1a13c58",
   "metadata": {},
   "source": [
    "### 4. linspace\n",
    "create an array with values that are spaced linearly in a specified interval"
   ]
  },
  {
   "cell_type": "code",
   "execution_count": 15,
   "id": "179cf104",
   "metadata": {},
   "outputs": [
    {
     "data": {
      "text/plain": [
       "array([ 0.        ,  3.33333333,  6.66666667, 10.        ])"
      ]
     },
     "execution_count": 15,
     "metadata": {},
     "output_type": "execute_result"
    }
   ],
   "source": [
    "np.linspace(0, 10, 4)"
   ]
  },
  {
   "cell_type": "code",
   "execution_count": 16,
   "id": "c75cf69f",
   "metadata": {},
   "outputs": [
    {
     "data": {
      "text/plain": [
       "array([ 0.        ,  0.71428571,  1.42857143,  2.14285714,  2.85714286,\n",
       "        3.57142857,  4.28571429,  5.        ,  5.71428571,  6.42857143,\n",
       "        7.14285714,  7.85714286,  8.57142857,  9.28571429, 10.        ])"
      ]
     },
     "execution_count": 16,
     "metadata": {},
     "output_type": "execute_result"
    }
   ],
   "source": [
    "np.linspace(0, 10, 15)"
   ]
  },
  {
   "cell_type": "markdown",
   "id": "af796f90",
   "metadata": {},
   "source": [
    "### 5. eye\n",
    "Creates an identity matrix"
   ]
  },
  {
   "cell_type": "code",
   "execution_count": 17,
   "id": "4b5861a1",
   "metadata": {},
   "outputs": [
    {
     "data": {
      "text/plain": [
       "array([[1., 0., 0., 0.],\n",
       "       [0., 1., 0., 0.],\n",
       "       [0., 0., 1., 0.],\n",
       "       [0., 0., 0., 1.]])"
      ]
     },
     "execution_count": 17,
     "metadata": {},
     "output_type": "execute_result"
    }
   ],
   "source": [
    "np.eye(4)     # diagonal matrix (4*4)"
   ]
  },
  {
   "cell_type": "markdown",
   "id": "71cde257",
   "metadata": {},
   "source": [
    "### 6. Random"
   ]
  },
  {
   "cell_type": "markdown",
   "id": "10055b43",
   "metadata": {},
   "source": [
    "Numpy also has lots of ways to create random number arrays:"
   ]
  },
  {
   "cell_type": "markdown",
   "id": "880fe0f5",
   "metadata": {},
   "source": [
    "**A. rand =>** Create an array of the given shape and populate it with random samples from a uniform distribution over [0, 1]."
   ]
  },
  {
   "cell_type": "code",
   "execution_count": 18,
   "id": "b56a287f",
   "metadata": {},
   "outputs": [
    {
     "data": {
      "text/plain": [
       "array([0.10811286, 0.23637663, 0.73227898])"
      ]
     },
     "execution_count": 18,
     "metadata": {},
     "output_type": "execute_result"
    }
   ],
   "source": [
    "np.random.rand(3)      #generate random number between 0 & 1"
   ]
  },
  {
   "cell_type": "code",
   "execution_count": 19,
   "id": "c870fe59",
   "metadata": {},
   "outputs": [
    {
     "data": {
      "text/plain": [
       "array([[0.40350362, 0.54882095, 0.40231594],\n",
       "       [0.45239185, 0.00108434, 0.43299133],\n",
       "       [0.78935316, 0.20015052, 0.01140282]])"
      ]
     },
     "execution_count": 19,
     "metadata": {},
     "output_type": "execute_result"
    }
   ],
   "source": [
    "np.random.rand(3, 3)"
   ]
  },
  {
   "cell_type": "markdown",
   "id": "82155f6f",
   "metadata": {},
   "source": [
    "**B. randn =>**\n",
    "Return a sample from the \"standard normal\" distribution. Unlike rand which is uniform:"
   ]
  },
  {
   "cell_type": "code",
   "execution_count": 20,
   "id": "10478c1f",
   "metadata": {},
   "outputs": [
    {
     "data": {
      "text/plain": [
       "array([ 0.56992279, -1.30436031, -1.66654225])"
      ]
     },
     "execution_count": 20,
     "metadata": {},
     "output_type": "execute_result"
    }
   ],
   "source": [
    "np.random.randn(3)"
   ]
  },
  {
   "cell_type": "code",
   "execution_count": 21,
   "id": "26d47d57",
   "metadata": {},
   "outputs": [
    {
     "data": {
      "text/plain": [
       "array([[-0.0751837 , -1.04321061, -0.58786085, -0.70249515],\n",
       "       [-0.81105089, -1.4085294 , -0.64669793, -0.41070377],\n",
       "       [-1.22124143, -0.16732305, -0.2063695 , -0.49882499]])"
      ]
     },
     "execution_count": 21,
     "metadata": {},
     "output_type": "execute_result"
    }
   ],
   "source": [
    "np.random.randn(3, 4)"
   ]
  },
  {
   "cell_type": "markdown",
   "id": "efaaed20",
   "metadata": {},
   "source": [
    "**C. randint =>**\n",
    "Return random integers from low (inclusive) to high (exclusive)."
   ]
  },
  {
   "cell_type": "code",
   "execution_count": 22,
   "id": "ac56c34b",
   "metadata": {},
   "outputs": [
    {
     "data": {
      "text/plain": [
       "9"
      ]
     },
     "execution_count": 22,
     "metadata": {},
     "output_type": "execute_result"
    }
   ],
   "source": [
    "np.random.randint(10)\n",
    "#OR\n",
    "np.random.randint(0, 10)   # np.random.randint(inclusive, exclusive)"
   ]
  },
  {
   "cell_type": "code",
   "execution_count": 23,
   "id": "5317abfc",
   "metadata": {},
   "outputs": [
    {
     "data": {
      "text/plain": [
       "array([1, 8, 5, 9, 4])"
      ]
     },
     "execution_count": 23,
     "metadata": {},
     "output_type": "execute_result"
    }
   ],
   "source": [
    "np.random.randint(0, 10, 5)   # np.random.randint(lowest value, highest value, size of array)"
   ]
  },
  {
   "cell_type": "markdown",
   "id": "81009f91",
   "metadata": {},
   "source": [
    "## Array Attributes and Methods"
   ]
  },
  {
   "cell_type": "code",
   "execution_count": 24,
   "id": "75d84bbf",
   "metadata": {},
   "outputs": [],
   "source": [
    "arr = np.arange(0, 15)\n",
    "\n",
    "random_arr = np.random.randint(1, 50, 10)"
   ]
  },
  {
   "cell_type": "code",
   "execution_count": 25,
   "id": "feddd1e4",
   "metadata": {},
   "outputs": [
    {
     "data": {
      "text/plain": [
       "array([ 0,  1,  2,  3,  4,  5,  6,  7,  8,  9, 10, 11, 12, 13, 14])"
      ]
     },
     "execution_count": 25,
     "metadata": {},
     "output_type": "execute_result"
    }
   ],
   "source": [
    "arr"
   ]
  },
  {
   "cell_type": "code",
   "execution_count": 26,
   "id": "6cc138c8",
   "metadata": {},
   "outputs": [
    {
     "data": {
      "text/plain": [
       "array([41, 46, 31, 42, 16,  4, 27, 43, 43,  9])"
      ]
     },
     "execution_count": 26,
     "metadata": {},
     "output_type": "execute_result"
    }
   ],
   "source": [
    "random_arr"
   ]
  },
  {
   "cell_type": "markdown",
   "id": "1b5717fc",
   "metadata": {},
   "source": [
    "### 1. Reshape\n",
    "Returns an array containing the same data with a new shape."
   ]
  },
  {
   "cell_type": "code",
   "execution_count": 27,
   "id": "8b18d719",
   "metadata": {},
   "outputs": [
    {
     "data": {
      "text/plain": [
       "array([[ 0,  1,  2,  3,  4],\n",
       "       [ 5,  6,  7,  8,  9],\n",
       "       [10, 11, 12, 13, 14]])"
      ]
     },
     "execution_count": 27,
     "metadata": {},
     "output_type": "execute_result"
    }
   ],
   "source": [
    "arr.reshape(3, 5)"
   ]
  },
  {
   "cell_type": "code",
   "execution_count": 28,
   "id": "bb3226b8",
   "metadata": {},
   "outputs": [
    {
     "data": {
      "text/plain": [
       "array([[ 0,  1,  2],\n",
       "       [ 3,  4,  5],\n",
       "       [ 6,  7,  8],\n",
       "       [ 9, 10, 11],\n",
       "       [12, 13, 14]])"
      ]
     },
     "execution_count": 28,
     "metadata": {},
     "output_type": "execute_result"
    }
   ],
   "source": [
    "arr.reshape(5, 3)"
   ]
  },
  {
   "cell_type": "markdown",
   "id": "e7879962",
   "metadata": {},
   "source": [
    "### 2. Shape\n",
    "Shape is an attribute that arrays have (not a method)."
   ]
  },
  {
   "cell_type": "code",
   "execution_count": 29,
   "id": "6725bb4d",
   "metadata": {},
   "outputs": [
    {
     "data": {
      "text/plain": [
       "array([ 0,  1,  2,  3,  4,  5,  6,  7,  8,  9, 10, 11, 12, 13, 14])"
      ]
     },
     "execution_count": 29,
     "metadata": {},
     "output_type": "execute_result"
    }
   ],
   "source": [
    "arr = np.arange(0, 15)      #its 1-D array\n",
    "arr"
   ]
  },
  {
   "cell_type": "code",
   "execution_count": 30,
   "id": "b88e9bc5",
   "metadata": {},
   "outputs": [
    {
     "data": {
      "text/plain": [
       "(15,)"
      ]
     },
     "execution_count": 30,
     "metadata": {},
     "output_type": "execute_result"
    }
   ],
   "source": [
    "arr.shape     #Vector"
   ]
  },
  {
   "cell_type": "code",
   "execution_count": 31,
   "id": "8a1241cc",
   "metadata": {},
   "outputs": [
    {
     "data": {
      "text/plain": [
       "array([[ 0,  1,  2,  3,  4,  5,  6,  7,  8,  9, 10, 11, 12, 13, 14]])"
      ]
     },
     "execution_count": 31,
     "metadata": {},
     "output_type": "execute_result"
    }
   ],
   "source": [
    "arr.reshape(1, 15)     #its 2-D array"
   ]
  },
  {
   "cell_type": "code",
   "execution_count": 32,
   "id": "a8222c48",
   "metadata": {},
   "outputs": [
    {
     "data": {
      "text/plain": [
       "(1, 15)"
      ]
     },
     "execution_count": 32,
     "metadata": {},
     "output_type": "execute_result"
    }
   ],
   "source": [
    "arr.reshape(1, 15).shape"
   ]
  },
  {
   "cell_type": "code",
   "execution_count": 33,
   "id": "b76a6d8f",
   "metadata": {},
   "outputs": [
    {
     "data": {
      "text/plain": [
       "array([[ 0],\n",
       "       [ 1],\n",
       "       [ 2],\n",
       "       [ 3],\n",
       "       [ 4],\n",
       "       [ 5],\n",
       "       [ 6],\n",
       "       [ 7],\n",
       "       [ 8],\n",
       "       [ 9],\n",
       "       [10],\n",
       "       [11],\n",
       "       [12],\n",
       "       [13],\n",
       "       [14]])"
      ]
     },
     "execution_count": 33,
     "metadata": {},
     "output_type": "execute_result"
    }
   ],
   "source": [
    "arr.reshape(15, 1)"
   ]
  },
  {
   "cell_type": "code",
   "execution_count": 34,
   "id": "0199094f",
   "metadata": {},
   "outputs": [
    {
     "data": {
      "text/plain": [
       "(15, 1)"
      ]
     },
     "execution_count": 34,
     "metadata": {},
     "output_type": "execute_result"
    }
   ],
   "source": [
    "arr.reshape(15, 1).shape"
   ]
  },
  {
   "cell_type": "markdown",
   "id": "e07ebded",
   "metadata": {},
   "source": [
    "### 3. dtype\n",
    "We can also grab the data type of the object in the array."
   ]
  },
  {
   "cell_type": "code",
   "execution_count": 35,
   "id": "7bb3f9f5",
   "metadata": {},
   "outputs": [
    {
     "data": {
      "text/plain": [
       "dtype('int32')"
      ]
     },
     "execution_count": 35,
     "metadata": {},
     "output_type": "execute_result"
    }
   ],
   "source": [
    "arr.dtype"
   ]
  },
  {
   "cell_type": "markdown",
   "id": "0dc80e3e",
   "metadata": {},
   "source": [
    "### 4. ndim\n",
    "To find the number of dimensions of the array."
   ]
  },
  {
   "cell_type": "code",
   "execution_count": 36,
   "id": "6043a45f",
   "metadata": {},
   "outputs": [
    {
     "data": {
      "text/plain": [
       "1"
      ]
     },
     "execution_count": 36,
     "metadata": {},
     "output_type": "execute_result"
    }
   ],
   "source": [
    "arr.ndim"
   ]
  },
  {
   "cell_type": "markdown",
   "id": "1637b740",
   "metadata": {},
   "source": [
    "### 5. Size\n",
    "To find the total number of elements in the array."
   ]
  },
  {
   "cell_type": "code",
   "execution_count": 37,
   "id": "79389d85",
   "metadata": {},
   "outputs": [
    {
     "data": {
      "text/plain": [
       "15"
      ]
     },
     "execution_count": 37,
     "metadata": {},
     "output_type": "execute_result"
    }
   ],
   "source": [
    "arr.size"
   ]
  },
  {
   "cell_type": "markdown",
   "id": "ebd9de7b",
   "metadata": {},
   "source": [
    "## Numpy Indexing and Selection"
   ]
  },
  {
   "cell_type": "code",
   "execution_count": 38,
   "id": "5fe0f308",
   "metadata": {},
   "outputs": [
    {
     "data": {
      "text/plain": [
       "array([ 1,  2,  3,  4,  5,  6,  7,  8,  9, 10])"
      ]
     },
     "execution_count": 38,
     "metadata": {},
     "output_type": "execute_result"
    }
   ],
   "source": [
    "arr = np.arange(1, 11)\n",
    "arr"
   ]
  },
  {
   "cell_type": "markdown",
   "id": "2717b3c3",
   "metadata": {},
   "source": [
    "**You can access an array element by referring to its index number like as list:**"
   ]
  },
  {
   "cell_type": "code",
   "execution_count": 39,
   "id": "3ebe55d4",
   "metadata": {},
   "outputs": [
    {
     "data": {
      "text/plain": [
       "1"
      ]
     },
     "execution_count": 39,
     "metadata": {},
     "output_type": "execute_result"
    }
   ],
   "source": [
    "# first valuet in array\n",
    "arr[0]"
   ]
  },
  {
   "cell_type": "code",
   "execution_count": 40,
   "id": "6faaa59a",
   "metadata": {},
   "outputs": [
    {
     "data": {
      "text/plain": [
       "10"
      ]
     },
     "execution_count": 40,
     "metadata": {},
     "output_type": "execute_result"
    }
   ],
   "source": [
    "# last value in array\n",
    "arr[-1]"
   ]
  },
  {
   "cell_type": "code",
   "execution_count": 41,
   "id": "e345f6fe",
   "metadata": {},
   "outputs": [
    {
     "data": {
      "text/plain": [
       "8"
      ]
     },
     "execution_count": 41,
     "metadata": {},
     "output_type": "execute_result"
    }
   ],
   "source": [
    "# get a value at an index\n",
    "arr[7]"
   ]
  },
  {
   "cell_type": "code",
   "execution_count": 42,
   "id": "604aaf8d",
   "metadata": {},
   "outputs": [
    {
     "data": {
      "text/plain": [
       "array([ 1,  2,  3,  4,  5,  6,  7,  8,  9, 10])"
      ]
     },
     "execution_count": 42,
     "metadata": {},
     "output_type": "execute_result"
    }
   ],
   "source": [
    "#Get values in a range\n",
    "arr[:]"
   ]
  },
  {
   "cell_type": "code",
   "execution_count": 43,
   "id": "857e3a42",
   "metadata": {},
   "outputs": [
    {
     "data": {
      "text/plain": [
       "array([ 1,  2,  3,  4,  5,  6,  7,  8,  9, 10])"
      ]
     },
     "execution_count": 43,
     "metadata": {},
     "output_type": "execute_result"
    }
   ],
   "source": [
    "arr[0:]"
   ]
  },
  {
   "cell_type": "code",
   "execution_count": 44,
   "id": "57d9a5c2",
   "metadata": {},
   "outputs": [
    {
     "data": {
      "text/plain": [
       "array([1, 2, 3, 4, 5])"
      ]
     },
     "execution_count": 44,
     "metadata": {},
     "output_type": "execute_result"
    }
   ],
   "source": [
    "arr[0:5]     # first 5 element"
   ]
  },
  {
   "cell_type": "code",
   "execution_count": 45,
   "id": "404ece98",
   "metadata": {},
   "outputs": [
    {
     "data": {
      "text/plain": [
       "array([ 6,  7,  8,  9, 10])"
      ]
     },
     "execution_count": 45,
     "metadata": {},
     "output_type": "execute_result"
    }
   ],
   "source": [
    "arr[-5:]     # last 5 element"
   ]
  },
  {
   "cell_type": "code",
   "execution_count": 46,
   "id": "0897e4d4",
   "metadata": {},
   "outputs": [
    {
     "data": {
      "text/plain": [
       "array([4, 5, 6, 7])"
      ]
     },
     "execution_count": 46,
     "metadata": {},
     "output_type": "execute_result"
    }
   ],
   "source": [
    "arr[3:7]"
   ]
  },
  {
   "cell_type": "markdown",
   "id": "3c2daa7e",
   "metadata": {},
   "source": [
    "### 1. Broadcasting\n",
    "Numpy arrays differ from a normal Python list because of their ability to broadcast."
   ]
  },
  {
   "cell_type": "code",
   "execution_count": 47,
   "id": "b7db9c1e",
   "metadata": {},
   "outputs": [
    {
     "data": {
      "text/plain": [
       "array([ 1,  2,  3,  4,  5,  6,  7,  8,  9, 10])"
      ]
     },
     "execution_count": 47,
     "metadata": {},
     "output_type": "execute_result"
    }
   ],
   "source": [
    "arr = np.arange(1, 11)\n",
    "arr"
   ]
  },
  {
   "cell_type": "code",
   "execution_count": 48,
   "id": "c21fee4f",
   "metadata": {},
   "outputs": [
    {
     "data": {
      "text/plain": [
       "array([500, 500, 500, 500, 500,   6,   7,   8,   9,  10])"
      ]
     },
     "execution_count": 48,
     "metadata": {},
     "output_type": "execute_result"
    }
   ],
   "source": [
    "# Setting a value with index range (Broadcasting)\n",
    "arr[0:5] = 500\n",
    "arr"
   ]
  },
  {
   "cell_type": "code",
   "execution_count": 49,
   "id": "3c461b33",
   "metadata": {},
   "outputs": [
    {
     "data": {
      "text/plain": [
       "array([500, 500, 500, 500, 500,   6])"
      ]
     },
     "execution_count": 49,
     "metadata": {},
     "output_type": "execute_result"
    }
   ],
   "source": [
    "slice_of_arr = arr[0:6]\n",
    "slice_of_arr"
   ]
  },
  {
   "cell_type": "markdown",
   "id": "6b530863",
   "metadata": {},
   "source": [
    "**Note: Now note the changes also occur in our original array!**"
   ]
  },
  {
   "cell_type": "code",
   "execution_count": 50,
   "id": "23fe7734",
   "metadata": {},
   "outputs": [
    {
     "data": {
      "text/plain": [
       "array([55, 55, 55, 55, 55, 55])"
      ]
     },
     "execution_count": 50,
     "metadata": {},
     "output_type": "execute_result"
    }
   ],
   "source": [
    "slice_of_arr[:] = 55\n",
    "slice_of_arr"
   ]
  },
  {
   "cell_type": "markdown",
   "id": "8e6ea165",
   "metadata": {},
   "source": [
    "**Data is not copied, it's a view of the original array! This avoids memory problems!**"
   ]
  },
  {
   "cell_type": "code",
   "execution_count": 51,
   "id": "a468685b",
   "metadata": {},
   "outputs": [
    {
     "data": {
      "text/plain": [
       "array([55, 55, 55, 55, 55, 55,  7,  8,  9, 10])"
      ]
     },
     "execution_count": 51,
     "metadata": {},
     "output_type": "execute_result"
    }
   ],
   "source": [
    "arr"
   ]
  },
  {
   "cell_type": "markdown",
   "id": "64442270",
   "metadata": {},
   "source": [
    "#### To get a copy, need to be explicit"
   ]
  },
  {
   "cell_type": "code",
   "execution_count": 52,
   "id": "b2df15d1",
   "metadata": {},
   "outputs": [
    {
     "data": {
      "text/plain": [
       "array([ 1,  2,  3,  4,  5,  6,  7,  8,  9, 10])"
      ]
     },
     "execution_count": 52,
     "metadata": {},
     "output_type": "execute_result"
    }
   ],
   "source": [
    "arr = np.arange(1, 11)\n",
    "\n",
    "arr_copy = arr.copy()\n",
    "arr_copy"
   ]
  },
  {
   "cell_type": "markdown",
   "id": "b81c3b71",
   "metadata": {},
   "source": [
    "### 2. Indexing a 2-D array (matrices)\n",
    "The general format is arr_2d [row,col] OR arr_2d[row][col]. \n",
    "I recommend usually using the comma notation for clarity."
   ]
  },
  {
   "cell_type": "code",
   "execution_count": 53,
   "id": "c259db31",
   "metadata": {},
   "outputs": [
    {
     "data": {
      "text/plain": [
       "array([[ 1,  2,  4],\n",
       "       [ 3, 25,  5],\n",
       "       [ 6,  7,  9]])"
      ]
     },
     "execution_count": 53,
     "metadata": {},
     "output_type": "execute_result"
    }
   ],
   "source": [
    "arr_2d = np.array([[1, 2, 4], [3, 25, 5], [6, 7, 9]])\n",
    "arr_2d"
   ]
  },
  {
   "cell_type": "code",
   "execution_count": 54,
   "id": "6bfcecd0",
   "metadata": {},
   "outputs": [
    {
     "data": {
      "text/plain": [
       "array([ 3, 25,  5])"
      ]
     },
     "execution_count": 54,
     "metadata": {},
     "output_type": "execute_result"
    }
   ],
   "source": [
    "arr_2d[1]    # arr_2d[row]"
   ]
  },
  {
   "cell_type": "markdown",
   "id": "76eef584",
   "metadata": {},
   "source": [
    "**Getting individual element value**"
   ]
  },
  {
   "cell_type": "code",
   "execution_count": 55,
   "id": "b8e0bc80",
   "metadata": {},
   "outputs": [
    {
     "data": {
      "text/plain": [
       "25"
      ]
     },
     "execution_count": 55,
     "metadata": {},
     "output_type": "execute_result"
    }
   ],
   "source": [
    "arr_2d[1, 1]    # arr_2d[row, col]\n",
    "#OR\n",
    "arr_2d[1][1]    # arr_2d[row][col]"
   ]
  },
  {
   "cell_type": "markdown",
   "id": "39d13d0d",
   "metadata": {},
   "source": [
    "#### 2D array slicing"
   ]
  },
  {
   "cell_type": "code",
   "execution_count": 56,
   "id": "006d0c76",
   "metadata": {},
   "outputs": [
    {
     "data": {
      "text/plain": [
       "array([[ 2,  4],\n",
       "       [25,  5]])"
      ]
     },
     "execution_count": 56,
     "metadata": {},
     "output_type": "execute_result"
    }
   ],
   "source": [
    "# Shape (2,2) from top right corner\n",
    "arr_2d[:2,1:]"
   ]
  },
  {
   "cell_type": "code",
   "execution_count": 57,
   "id": "e2d169b4",
   "metadata": {},
   "outputs": [
    {
     "data": {
      "text/plain": [
       "array([6, 7, 9])"
      ]
     },
     "execution_count": 57,
     "metadata": {},
     "output_type": "execute_result"
    }
   ],
   "source": [
    "# Shape bottom row\n",
    "arr_2d[2]   \n",
    "#OR\n",
    "arr_2d[2, :]"
   ]
  },
  {
   "cell_type": "markdown",
   "id": "fe882ab3",
   "metadata": {},
   "source": [
    "### 3. Fancy Indexing\n",
    "Fancy indexing allows you to select entire rows or columns out of order, to show this, let's quickly build out a numpy array:"
   ]
  },
  {
   "cell_type": "code",
   "execution_count": 58,
   "id": "271e63b8",
   "metadata": {},
   "outputs": [
    {
     "data": {
      "text/plain": [
       "array([[0., 0., 0., 0., 0.],\n",
       "       [0., 0., 0., 0., 0.],\n",
       "       [0., 0., 0., 0., 0.],\n",
       "       [0., 0., 0., 0., 0.],\n",
       "       [0., 0., 0., 0., 0.]])"
      ]
     },
     "execution_count": 58,
     "metadata": {},
     "output_type": "execute_result"
    }
   ],
   "source": [
    "arr = np.zeros((5, 5))\n",
    "arr"
   ]
  },
  {
   "cell_type": "code",
   "execution_count": 59,
   "id": "f3767b29",
   "metadata": {},
   "outputs": [
    {
     "data": {
      "text/plain": [
       "5"
      ]
     },
     "execution_count": 59,
     "metadata": {},
     "output_type": "execute_result"
    }
   ],
   "source": [
    "arr_length = arr.shape[1]\n",
    "arr_length"
   ]
  },
  {
   "cell_type": "code",
   "execution_count": 60,
   "id": "15dcfccb",
   "metadata": {},
   "outputs": [
    {
     "data": {
      "text/plain": [
       "array([[0., 0., 0., 0., 0.],\n",
       "       [1., 1., 1., 1., 1.],\n",
       "       [2., 2., 2., 2., 2.],\n",
       "       [3., 3., 3., 3., 3.],\n",
       "       [4., 4., 4., 4., 4.]])"
      ]
     },
     "execution_count": 60,
     "metadata": {},
     "output_type": "execute_result"
    }
   ],
   "source": [
    "for i in range(arr_length):\n",
    "    arr[i] = i\n",
    "    \n",
    "arr"
   ]
  },
  {
   "cell_type": "markdown",
   "id": "52b736d1",
   "metadata": {},
   "source": [
    "### 4. Selection\n",
    "Let's briefly go over how to use brackets for selection based off of comparison operators."
   ]
  },
  {
   "cell_type": "code",
   "execution_count": 61,
   "id": "77f61677",
   "metadata": {},
   "outputs": [
    {
     "data": {
      "text/plain": [
       "array([[ 1,  2,  3,  4],\n",
       "       [ 5,  6,  7,  8],\n",
       "       [ 9, 10, 11, 12]])"
      ]
     },
     "execution_count": 61,
     "metadata": {},
     "output_type": "execute_result"
    }
   ],
   "source": [
    "arr = np.array([[1 , 2, 3, 4], [5, 6, 7, 8], [9, 10, 11, 12]])\n",
    "arr"
   ]
  },
  {
   "cell_type": "code",
   "execution_count": 62,
   "id": "9559308a",
   "metadata": {},
   "outputs": [
    {
     "data": {
      "text/plain": [
       "array([[False, False, False, False],\n",
       "       [ True,  True,  True,  True],\n",
       "       [ True,  True,  True,  True]])"
      ]
     },
     "execution_count": 62,
     "metadata": {},
     "output_type": "execute_result"
    }
   ],
   "source": [
    "arr > 4"
   ]
  },
  {
   "cell_type": "code",
   "execution_count": 63,
   "id": "62e964fe",
   "metadata": {},
   "outputs": [
    {
     "data": {
      "text/plain": [
       "array([[False, False, False, False],\n",
       "       [ True,  True,  True,  True],\n",
       "       [ True,  True,  True,  True]])"
      ]
     },
     "execution_count": 63,
     "metadata": {},
     "output_type": "execute_result"
    }
   ],
   "source": [
    "bool_arr = arr > 4\n",
    "bool_arr"
   ]
  },
  {
   "cell_type": "code",
   "execution_count": 64,
   "id": "84bceb73",
   "metadata": {},
   "outputs": [
    {
     "data": {
      "text/plain": [
       "array([ 5,  6,  7,  8,  9, 10, 11, 12])"
      ]
     },
     "execution_count": 64,
     "metadata": {},
     "output_type": "execute_result"
    }
   ],
   "source": [
    "arr[bool_arr]"
   ]
  },
  {
   "cell_type": "code",
   "execution_count": 65,
   "id": "31ce53ad",
   "metadata": {},
   "outputs": [
    {
     "data": {
      "text/plain": [
       "array([ 3,  4,  5,  6,  7,  8,  9, 10, 11, 12])"
      ]
     },
     "execution_count": 65,
     "metadata": {},
     "output_type": "execute_result"
    }
   ],
   "source": [
    "arr[arr >= 3]"
   ]
  },
  {
   "cell_type": "code",
   "execution_count": 66,
   "id": "b3a4fd66",
   "metadata": {},
   "outputs": [
    {
     "data": {
      "text/plain": [
       "array([1, 2, 3, 4])"
      ]
     },
     "execution_count": 66,
     "metadata": {},
     "output_type": "execute_result"
    }
   ],
   "source": [
    "x = 5\n",
    "arr[arr < x]"
   ]
  },
  {
   "cell_type": "code",
   "execution_count": 67,
   "id": "22ed0def",
   "metadata": {},
   "outputs": [
    {
     "data": {
      "text/plain": [
       "array([ 2,  4,  6,  8, 10, 12])"
      ]
     },
     "execution_count": 67,
     "metadata": {},
     "output_type": "execute_result"
    }
   ],
   "source": [
    "arr[arr % 2 == 0]"
   ]
  },
  {
   "cell_type": "code",
   "execution_count": 68,
   "id": "10348cb7",
   "metadata": {},
   "outputs": [
    {
     "data": {
      "text/plain": [
       "array([4, 5, 6, 7, 8, 9])"
      ]
     },
     "execution_count": 68,
     "metadata": {},
     "output_type": "execute_result"
    }
   ],
   "source": [
    "arr[(arr > 3) & (arr < 10)]"
   ]
  },
  {
   "cell_type": "code",
   "execution_count": 69,
   "id": "b051049a",
   "metadata": {},
   "outputs": [
    {
     "name": "stdout",
     "output_type": "stream",
     "text": [
      "(array([0, 0, 0, 0], dtype=int64), array([0, 1, 2, 3], dtype=int64))\n"
     ]
    }
   ],
   "source": [
    "b = np.nonzero(arr < 5)\n",
    "print(b)"
   ]
  },
  {
   "cell_type": "markdown",
   "id": "08ac88ef",
   "metadata": {},
   "source": [
    "## NumPy Operations"
   ]
  },
  {
   "cell_type": "markdown",
   "id": "e52f462f",
   "metadata": {},
   "source": [
    "### 1. Arithmetic\n",
    "You can easily perform array with array arithmetic, or scalar with array arithmetic."
   ]
  },
  {
   "cell_type": "code",
   "execution_count": 70,
   "id": "7e453eb0",
   "metadata": {},
   "outputs": [
    {
     "data": {
      "text/plain": [
       "array([ 1,  2,  3,  4,  5,  6,  7,  8,  9, 10])"
      ]
     },
     "execution_count": 70,
     "metadata": {},
     "output_type": "execute_result"
    }
   ],
   "source": [
    "arr = np.arange(1, 11)\n",
    "arr"
   ]
  },
  {
   "cell_type": "code",
   "execution_count": 71,
   "id": "b0b716f6",
   "metadata": {},
   "outputs": [
    {
     "data": {
      "text/plain": [
       "array([ 2,  4,  6,  8, 10, 12, 14, 16, 18, 20])"
      ]
     },
     "execution_count": 71,
     "metadata": {},
     "output_type": "execute_result"
    }
   ],
   "source": [
    "arr + arr"
   ]
  },
  {
   "cell_type": "code",
   "execution_count": 72,
   "id": "2316c1b8",
   "metadata": {},
   "outputs": [
    {
     "data": {
      "text/plain": [
       "array([  1,   4,   9,  16,  25,  36,  49,  64,  81, 100])"
      ]
     },
     "execution_count": 72,
     "metadata": {},
     "output_type": "execute_result"
    }
   ],
   "source": [
    "arr * arr"
   ]
  },
  {
   "cell_type": "code",
   "execution_count": 73,
   "id": "29bb323b",
   "metadata": {},
   "outputs": [
    {
     "data": {
      "text/plain": [
       "array([  1,   4,   9,  16,  25,  36,  49,  64,  81, 100])"
      ]
     },
     "execution_count": 73,
     "metadata": {},
     "output_type": "execute_result"
    }
   ],
   "source": [
    "arr ** 2       # square of array"
   ]
  },
  {
   "cell_type": "code",
   "execution_count": 74,
   "id": "fb13e4ec",
   "metadata": {},
   "outputs": [
    {
     "data": {
      "text/plain": [
       "array([0, 0, 0, 0, 0, 0, 0, 0, 0, 0])"
      ]
     },
     "execution_count": 74,
     "metadata": {},
     "output_type": "execute_result"
    }
   ],
   "source": [
    "arr - arr"
   ]
  },
  {
   "cell_type": "code",
   "execution_count": 75,
   "id": "bd747277",
   "metadata": {},
   "outputs": [
    {
     "data": {
      "text/plain": [
       "array([1., 1., 1., 1., 1., 1., 1., 1., 1., 1.])"
      ]
     },
     "execution_count": 75,
     "metadata": {},
     "output_type": "execute_result"
    }
   ],
   "source": [
    "arr / arr"
   ]
  },
  {
   "cell_type": "code",
   "execution_count": 76,
   "id": "247bd950",
   "metadata": {},
   "outputs": [
    {
     "name": "stderr",
     "output_type": "stream",
     "text": [
      "C:\\Users\\Admin\\AppData\\Local\\Temp\\ipykernel_10080\\4012733348.py:1: RuntimeWarning: divide by zero encountered in divide\n",
      "  arr / 0    # NaN\n"
     ]
    },
    {
     "data": {
      "text/plain": [
       "array([inf, inf, inf, inf, inf, inf, inf, inf, inf, inf])"
      ]
     },
     "execution_count": 76,
     "metadata": {},
     "output_type": "execute_result"
    }
   ],
   "source": [
    "arr / 0    # NaN"
   ]
  },
  {
   "cell_type": "markdown",
   "id": "31cb8777",
   "metadata": {},
   "source": [
    "### 2. Universal Array Functions¶\n",
    "Numpy comes with many universal array functions, which are essentially just mathematical operations you can use to perform the operation across the array."
   ]
  },
  {
   "cell_type": "code",
   "execution_count": 77,
   "id": "5cea3920",
   "metadata": {},
   "outputs": [
    {
     "data": {
      "text/plain": [
       "array([ 1,  2,  3,  4,  5,  6,  7,  8,  9, 10])"
      ]
     },
     "execution_count": 77,
     "metadata": {},
     "output_type": "execute_result"
    }
   ],
   "source": [
    "arr = np.arange(1, 11)\n",
    "arr"
   ]
  },
  {
   "cell_type": "code",
   "execution_count": 78,
   "id": "31d447ec",
   "metadata": {},
   "outputs": [
    {
     "data": {
      "text/plain": [
       "array([1.        , 1.41421356, 1.73205081, 2.        , 2.23606798,\n",
       "       2.44948974, 2.64575131, 2.82842712, 3.        , 3.16227766])"
      ]
     },
     "execution_count": 78,
     "metadata": {},
     "output_type": "execute_result"
    }
   ],
   "source": [
    "# Taking Square Roots\n",
    "np.sqrt(arr)"
   ]
  },
  {
   "cell_type": "code",
   "execution_count": 79,
   "id": "b7d7cf13",
   "metadata": {},
   "outputs": [
    {
     "data": {
      "text/plain": [
       "array([2.71828183e+00, 7.38905610e+00, 2.00855369e+01, 5.45981500e+01,\n",
       "       1.48413159e+02, 4.03428793e+02, 1.09663316e+03, 2.98095799e+03,\n",
       "       8.10308393e+03, 2.20264658e+04])"
      ]
     },
     "execution_count": 79,
     "metadata": {},
     "output_type": "execute_result"
    }
   ],
   "source": [
    "# Calcualting exponential (e^)\n",
    "np.exp(arr)"
   ]
  },
  {
   "cell_type": "code",
   "execution_count": 80,
   "id": "10bcfbad",
   "metadata": {},
   "outputs": [
    {
     "data": {
      "text/plain": [
       "array([ 0.84147098,  0.90929743,  0.14112001, -0.7568025 , -0.95892427,\n",
       "       -0.2794155 ,  0.6569866 ,  0.98935825,  0.41211849, -0.54402111])"
      ]
     },
     "execution_count": 80,
     "metadata": {},
     "output_type": "execute_result"
    }
   ],
   "source": [
    "np.sin(arr)"
   ]
  },
  {
   "cell_type": "code",
   "execution_count": 81,
   "id": "a7678d89",
   "metadata": {},
   "outputs": [
    {
     "data": {
      "text/plain": [
       "array([0.        , 0.69314718, 1.09861229, 1.38629436, 1.60943791,\n",
       "       1.79175947, 1.94591015, 2.07944154, 2.19722458, 2.30258509])"
      ]
     },
     "execution_count": 81,
     "metadata": {},
     "output_type": "execute_result"
    }
   ],
   "source": [
    "np.log(arr)"
   ]
  },
  {
   "cell_type": "markdown",
   "id": "675683bb",
   "metadata": {},
   "source": [
    "### max, min, argmax, argmin\n",
    "These are useful methods for finding max or min values. Or to find their index locations using argmin or argmax"
   ]
  },
  {
   "cell_type": "code",
   "execution_count": 82,
   "id": "6e7dace3",
   "metadata": {},
   "outputs": [
    {
     "data": {
      "text/plain": [
       "10"
      ]
     },
     "execution_count": 82,
     "metadata": {},
     "output_type": "execute_result"
    }
   ],
   "source": [
    "arr.max()     # find max value in arr\n",
    "#OR\n",
    "np.max(arr)"
   ]
  },
  {
   "cell_type": "code",
   "execution_count": 83,
   "id": "0e4498d7",
   "metadata": {},
   "outputs": [
    {
     "data": {
      "text/plain": [
       "9"
      ]
     },
     "execution_count": 83,
     "metadata": {},
     "output_type": "execute_result"
    }
   ],
   "source": [
    "arr.argmax()       # find the index location of max value\n",
    "#OR\n",
    "np.argmax(arr)"
   ]
  },
  {
   "cell_type": "code",
   "execution_count": 84,
   "id": "2f2e5324",
   "metadata": {},
   "outputs": [
    {
     "data": {
      "text/plain": [
       "1"
      ]
     },
     "execution_count": 84,
     "metadata": {},
     "output_type": "execute_result"
    }
   ],
   "source": [
    "arr.min()     # find min value in arr\n",
    "#OR\n",
    "np.min(arr)"
   ]
  },
  {
   "cell_type": "code",
   "execution_count": 85,
   "id": "99ece8de",
   "metadata": {},
   "outputs": [
    {
     "data": {
      "text/plain": [
       "0"
      ]
     },
     "execution_count": 85,
     "metadata": {},
     "output_type": "execute_result"
    }
   ],
   "source": [
    "np.argmin(arr)     # find the index location of max value\n",
    "#OR\n",
    "np.argmin(arr)"
   ]
  },
  {
   "cell_type": "code",
   "execution_count": 86,
   "id": "d5add964",
   "metadata": {},
   "outputs": [
    {
     "data": {
      "text/plain": [
       "55"
      ]
     },
     "execution_count": 86,
     "metadata": {},
     "output_type": "execute_result"
    }
   ],
   "source": [
    "arr.sum()"
   ]
  },
  {
   "cell_type": "code",
   "execution_count": 87,
   "id": "82be6f7d",
   "metadata": {},
   "outputs": [
    {
     "data": {
      "text/plain": [
       "array([ 1,  2,  3,  4,  5,  6,  7,  8,  9, 10])"
      ]
     },
     "execution_count": 87,
     "metadata": {},
     "output_type": "execute_result"
    }
   ],
   "source": [
    "np.sort(arr)"
   ]
  },
  {
   "cell_type": "code",
   "execution_count": 88,
   "id": "385ea1f5",
   "metadata": {},
   "outputs": [
    {
     "data": {
      "text/plain": [
       "array([1, 2, 3, 4, 5, 6, 7, 8])"
      ]
     },
     "execution_count": 88,
     "metadata": {},
     "output_type": "execute_result"
    }
   ],
   "source": [
    "a = np.array([1, 2, 3, 4])\n",
    "b = np.array([5, 6, 7, 8])\n",
    "\n",
    "np.concatenate((a, b))"
   ]
  },
  {
   "cell_type": "code",
   "execution_count": 89,
   "id": "4ccbba15",
   "metadata": {},
   "outputs": [
    {
     "data": {
      "text/plain": [
       "array([10,  9,  8,  7,  6,  5,  4,  3,  2,  1])"
      ]
     },
     "execution_count": 89,
     "metadata": {},
     "output_type": "execute_result"
    }
   ],
   "source": [
    "# You can reverse array\n",
    "np.flip(arr)"
   ]
  },
  {
   "cell_type": "code",
   "execution_count": null,
   "id": "158bf8eb",
   "metadata": {},
   "outputs": [],
   "source": []
  },
  {
   "cell_type": "markdown",
   "id": "34365307",
   "metadata": {},
   "source": [
    "### Thanks!!"
   ]
  }
 ],
 "metadata": {
  "kernelspec": {
   "display_name": "Python 3 (ipykernel)",
   "language": "python",
   "name": "python3"
  },
  "language_info": {
   "codemirror_mode": {
    "name": "ipython",
    "version": 3
   },
   "file_extension": ".py",
   "mimetype": "text/x-python",
   "name": "python",
   "nbconvert_exporter": "python",
   "pygments_lexer": "ipython3",
   "version": "3.10.8"
  }
 },
 "nbformat": 4,
 "nbformat_minor": 5
}
